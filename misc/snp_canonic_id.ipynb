{
 "cells": [
  {
   "cell_type": "code",
   "execution_count": 6,
   "metadata": {},
   "outputs": [],
   "source": [
    "import pandas as pd\n",
    "\n",
    "_base_complement = {\"A\":\"T\", \"C\":\"G\", \"G\":\"C\", \"T\":\"A\"}\n",
    "\n",
    "def _complement(seq):\n",
    "    return \"\".join([_base_complement[b] for b in seq])\n",
    "\n",
    "def canonic_id(chri, bp, a1, a2):\n",
    "    alleles = ['A', 'T', 'C', 'G']\n",
    "    if a1 not in alleles: return None\n",
    "    if a2 not in alleles: return None\n",
    "    a1a2=a1+a2\n",
    "    alternatives = [a1a2, _complement(a1a2), a1a2[::-1], _complement(a1a2)[::-1]]\n",
    "    if len(set(alternatives)) != 4 : return None\n",
    "    return f\"{chri}:{bp}_{list(sorted(alternatives))[0]}\"\n",
    "\n",
    "def format_chr(chrvec):\n",
    "    tmpchrvec = chrvec.astype('str')\n",
    "    tmpchrvec = tmpchrvec.str.lower()\n",
    "    tmpchrvec = tmpchrvec.str.replace('chr', '')\n",
    "    tmpchrvec[tmpchrvec=='x'] = '23'\n",
    "    tmpchrvec[tmpchrvec=='y'] = '24'\n",
    "    tmpchrvec[tmpchrvec=='par'] = '25'\n",
    "    tmpchrvec[tmpchrvec=='m'] = '26'\n",
    "    tmpchrvec[tmpchrvec=='mt'] = '26'\n",
    "    tmpchrvec[tmpchrvec=='x_par1'] = '25'\n",
    "    tmpchrvec[tmpchrvec=='x_par2'] = '25'\n",
    "    tmpchrvec[tmpchrvec=='x_nonpar'] = '23'\n",
    "    tmpchrvec[tmpchrvec=='na'] = '-9'\n",
    "    tmpchrvec[tmpchrvec.isnull()] = '-9'\n",
    "    tmpchrvec[tmpchrvec=='nan'] = '-9'\n",
    "    tmpchrvec[tmpchrvec==' '] = '-9'\n",
    "    tmpchrvec = tmpchrvec.astype('float').astype('int')\n",
    "    return tmpchrvec\n",
    "        \n",
    "bim = pd.read_csv('chr21.bim', header=None, sep='\\t', names=['CHR', 'SNP', 'GP', 'BP', 'A1', 'A2'])\n",
    "bim['A1'] = bim['A1'].str.upper(); bim['A2'] = bim['A2'].str.upper()\n",
    "bim['CHR'] = format_chr(bim['CHR'])\n",
    "bim['ID'] = [canonic_id(chri, bp, a1, a2) for chri, bp, a1, a2 in zip(bim['CHR'], bim['BP'], bim['A1'], bim['A2'])]\n"
   ]
  },
  {
   "cell_type": "code",
   "execution_count": 8,
   "metadata": {},
   "outputs": [
    {
     "data": {
      "text/plain": [
       "{'AA': None,\n",
       " 'AT': None,\n",
       " 'AC': '0:0_AC',\n",
       " 'AG': '0:0_AG',\n",
       " 'TA': None,\n",
       " 'TT': None,\n",
       " 'TC': '0:0_AG',\n",
       " 'TG': '0:0_AC',\n",
       " 'CA': '0:0_AC',\n",
       " 'CT': '0:0_AG',\n",
       " 'CC': None,\n",
       " 'CG': None,\n",
       " 'GA': '0:0_AG',\n",
       " 'GT': '0:0_AC',\n",
       " 'GC': None,\n",
       " 'GG': None}"
      ]
     },
     "execution_count": 8,
     "metadata": {},
     "output_type": "execute_result"
    }
   ],
   "source": [
    "# canonic mapping of alleles\n",
    "alleles = ['A', 'T', 'C', 'G']\n",
    "alleles2 = [(a1, a2) for a1 in alleles for a2 in alleles]\n",
    "dict([(a1+a2, canonic_id(0, 0, a1, a2)) for a1, a2 in alleles2])"
   ]
  },
  {
   "cell_type": "code",
   "execution_count": null,
   "metadata": {},
   "outputs": [],
   "source": []
  }
 ],
 "metadata": {
  "kernelspec": {
   "display_name": "Python 3 (ipykernel)",
   "language": "python",
   "name": "python3"
  },
  "language_info": {
   "codemirror_mode": {
    "name": "ipython",
    "version": 3
   },
   "file_extension": ".py",
   "mimetype": "text/x-python",
   "name": "python",
   "nbconvert_exporter": "python",
   "pygments_lexer": "ipython3",
   "version": "3.9.12"
  }
 },
 "nbformat": 4,
 "nbformat_minor": 2
}
